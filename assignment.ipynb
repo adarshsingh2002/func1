{
  "nbformat": 4,
  "nbformat_minor": 0,
  "metadata": {
    "colab": {
      "provenance": []
    },
    "kernelspec": {
      "name": "python3",
      "display_name": "Python 3"
    },
    "language_info": {
      "name": "python"
    }
  },
  "cells": [
    {
      "cell_type": "code",
      "execution_count": null,
      "metadata": {
        "id": "s5b9S2urFMGc"
      },
      "outputs": [],
      "source": []
    },
    {
      "cell_type": "markdown",
      "source": [],
      "metadata": {
        "id": "2Bv8BkZEFOkv"
      }
    },
    {
      "cell_type": "markdown",
      "source": [
        "# fun\n"
      ],
      "metadata": {
        "id": "B0R3WvZnFa8b"
      }
    },
    {
      "cell_type": "markdown",
      "source": [
        "1- what is your name?\n",
        "   - adarsh singh\n"
      ],
      "metadata": {
        "id": "7AF9LoFfFnmp"
      }
    },
    {
      "cell_type": "code",
      "source": [
        "print(\"hello, adarsh\")"
      ],
      "metadata": {
        "colab": {
          "base_uri": "https://localhost:8080/"
        },
        "id": "1AZfu4yTGJ9m",
        "outputId": "d2947336-bb87-4b07-d16f-ded0bd59ac19"
      },
      "execution_count": 1,
      "outputs": [
        {
          "output_type": "stream",
          "name": "stdout",
          "text": [
            "hello, adarsh\n"
          ]
        }
      ]
    }
  ]
}